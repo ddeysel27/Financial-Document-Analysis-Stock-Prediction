{
 "cells": [
  {
   "cell_type": "markdown",
   "id": "eb50ecb7",
   "metadata": {},
   "source": [
    "### Stock Forecasting & Direction Prediction Snippet"
   ]
  },
  {
   "cell_type": "code",
   "execution_count": 15,
   "id": "6fa8d0f9",
   "metadata": {},
   "outputs": [],
   "source": [
    "import pandas as pd\n",
    "import numpy as np\n",
    "from sklearn.model_selection import train_test_split\n",
    "from sklearn.ensemble import RandomForestClassifier\n",
    "from sklearn.metrics import accuracy_score, classification_report, confusion_matrix\n",
    "import seaborn as sns\n",
    "import matplotlib.pyplot as plt\n",
    "\n",
    "# Load processed stock data\n",
    "all_stocks = pd.read_csv(\"../data/processed/all_stocks_clean.csv\")\n",
    "all_stocks[\"Date\"] = pd.to_datetime(all_stocks[\"Date\"])\n",
    "\n",
    "# Focus on one ticker first (e.g., AAPL)\n",
    "df = all_stocks[all_stocks[\"Ticker\"]==\"AAPL\"].copy()\n",
    "df = df.sort_values(\"Date\")"
   ]
  },
  {
   "cell_type": "markdown",
   "id": "ea84a6ae",
   "metadata": {},
   "source": [
    "#### feature engineering"
   ]
  },
  {
   "cell_type": "code",
   "execution_count": 16,
   "id": "9782f8fe",
   "metadata": {},
   "outputs": [],
   "source": [
    "df[\"Return\"] = df[\"Close\"].pct_change()\n",
    "df[\"Target\"] = (df[\"Return\"].shift(-1) > 0).astype(int)  # 1 if next day up, else 0\n",
    "\n",
    "# Simple Moving Averages\n",
    "df[\"SMA10\"] = df[\"Close\"].rolling(10).mean()\n",
    "df[\"SMA50\"] = df[\"Close\"].rolling(50).mean()\n",
    "\n",
    "# Exponential Moving Average\n",
    "df[\"EMA20\"] = df[\"Close\"].ewm(span=20, adjust=False).mean()\n",
    "\n",
    "# Volatility (rolling standard deviation)\n",
    "df[\"Volatility\"] = df[\"Return\"].rolling(10).std()\n",
    "\n",
    "# Momentum indicator (difference in moving averages)\n",
    "df[\"Momentum\"] = df[\"SMA10\"] - df[\"SMA50\"]\n",
    "\n",
    "# RSI (Relative Strength Index, 14-day)\n",
    "window = 14\n",
    "delta = df[\"Close\"].diff()\n",
    "gain = (delta.where(delta > 0, 0)).rolling(window=window).mean()\n",
    "loss = (-delta.where(delta < 0, 0)).rolling(window=window).mean()\n",
    "rs = gain / loss\n",
    "df[\"RSI\"] = 100 - (100 / (1 + rs))\n",
    "\n",
    "# MACD (trend signal)\n",
    "df[\"EMA12\"] = df[\"Close\"].ewm(span=12, adjust=False).mean()\n",
    "df[\"EMA26\"] = df[\"Close\"].ewm(span=26, adjust=False).mean()\n",
    "df[\"MACD\"] = df[\"EMA12\"] - df[\"EMA26\"]\n",
    "\n",
    "# Lagged Returns\n",
    "df[\"Lag1\"] = df[\"Return\"].shift(1)\n",
    "df[\"Lag2\"] = df[\"Return\"].shift(2)\n",
    "\n",
    "# Drop missing values\n",
    "df = df.dropna()\n",
    "\n"
   ]
  },
  {
   "cell_type": "markdown",
   "id": "75e53bd1",
   "metadata": {},
   "source": [
    "#### Test/train Split"
   ]
  },
  {
   "cell_type": "code",
   "execution_count": 17,
   "id": "711ee888",
   "metadata": {},
   "outputs": [],
   "source": [
    "# ----------------------------\n",
    "# Train/Test Split\n",
    "# ----------------------------\n",
    "features = [\"Lag1\", \"Lag2\", \"SMA10\", \"SMA50\", \"EMA20\",\n",
    "            \"Volatility\", \"Momentum\", \"RSI\", \"MACD\"]\n",
    "\n",
    "X = df[features]\n",
    "y = df[\"Target\"]\n",
    "\n",
    "X_train, X_test, y_train, y_test = train_test_split(X, y, shuffle=False, test_size=0.2)\n"
   ]
  },
  {
   "cell_type": "markdown",
   "id": "a39011bd",
   "metadata": {},
   "source": [
    "#### Random Forest Classifier"
   ]
  },
  {
   "cell_type": "code",
   "execution_count": 18,
   "id": "7c6b3710",
   "metadata": {},
   "outputs": [],
   "source": [
    "# ----------------------------\n",
    "# Random Forest (Tuned)\n",
    "# ----------------------------\n",
    "rf = RandomForestClassifier(\n",
    "    n_estimators=500,          # more trees for stability\n",
    "    max_depth=None,            # let trees grow deep\n",
    "    class_weight=\"balanced\",   # handle imbalance between up/down\n",
    "    random_state=42\n",
    ")\n",
    "\n",
    "rf.fit(X_train, y_train)\n",
    "y_pred = rf.predict(X_test)"
   ]
  },
  {
   "cell_type": "markdown",
   "id": "7c85d5ac",
   "metadata": {},
   "source": [
    "#### Evaluation"
   ]
  },
  {
   "cell_type": "code",
   "execution_count": 19,
   "id": "a7874e85",
   "metadata": {},
   "outputs": [
    {
     "name": "stdout",
     "output_type": "stream",
     "text": [
      "Accuracy: 0.5578512396694215\n",
      "              precision    recall  f1-score   support\n",
      "\n",
      "           0       0.53      0.45      0.49       113\n",
      "           1       0.58      0.65      0.61       129\n",
      "\n",
      "    accuracy                           0.56       242\n",
      "   macro avg       0.55      0.55      0.55       242\n",
      "weighted avg       0.55      0.56      0.55       242\n",
      "\n"
     ]
    }
   ],
   "source": [
    "print(\"Accuracy:\", accuracy_score(y_test, y_pred))\n",
    "print(classification_report(y_test, y_pred))"
   ]
  },
  {
   "cell_type": "markdown",
   "id": "c7a0bbdf",
   "metadata": {},
   "source": [
    "#### Visualize Predictions"
   ]
  },
  {
   "cell_type": "code",
   "execution_count": 20,
   "id": "91e379e9",
   "metadata": {},
   "outputs": [
    {
     "data": {
      "image/png": "[encoded data removed]",
      "text/plain": [
       "<Figure size 640x480 with 2 Axes>"
      ]
     },
     "metadata": {},
     "output_type": "display_data"
    }
   ],
   "source": [
    "# Confusion matrix\n",
    "cm = confusion_matrix(y_test, y_pred)\n",
    "sns.heatmap(cm, annot=True, fmt=\"d\", cmap=\"Blues\", xticklabels=[\"Down\",\"Up\"], yticklabels=[\"Down\",\"Up\"])\n",
    "plt.title(\"Confusion Matrix - Random Forest\")\n",
    "plt.ylabel(\"True\")\n",
    "plt.xlabel(\"Predicted\")\n",
    "plt.show()"
   ]
  },
  {
   "cell_type": "markdown",
   "id": "0ab5eff8",
   "metadata": {},
   "source": [
    "#### Feature Importance"
   ]
  },
  {
   "cell_type": "code",
   "execution_count": 21,
   "id": "ad7142bb",
   "metadata": {},
   "outputs": [
    {
     "data": {
      "image/png": "[encoded data removed]",
      "text/plain": [
       "<Figure size 800x500 with 1 Axes>"
      ]
     },
     "metadata": {},
     "output_type": "display_data"
    }
   ],
   "source": [
    "importances = pd.Series(rf.feature_importances_, index=features)\n",
    "importances.sort_values().plot(kind=\"barh\", figsize=(8,5))\n",
    "plt.title(\"Feature Importance - Random Forest\")\n",
    "plt.show()"
   ]
  }
 ],
 "metadata": {
  "kernelspec": {
   "display_name": ".venv (3.12.0)",
   "language": "python",
   "name": "python3"
  },
  "language_info": {
   "codemirror_mode": {
    "name": "ipython",
    "version": 3
   },
   "file_extension": ".py",
   "mimetype": "text/x-python",
   "name": "python",
   "nbconvert_exporter": "python",
   "pygments_lexer": "ipython3",
   "version": "3.12.0"
  }
 },
 "nbformat": 4,
 "nbformat_minor": 5
}
