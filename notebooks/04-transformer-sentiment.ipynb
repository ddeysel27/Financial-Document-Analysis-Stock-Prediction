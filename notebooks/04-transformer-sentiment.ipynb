{
 "cells": [
  {
   "cell_type": "markdown",
   "id": "372bb3c1",
   "metadata": {},
   "source": [
    "### Sentiment Analysis on the news\n",
    "\n",
    "- Use finance specific Hugging Face model like FinBERT\n",
    "- Add 2 new columns to news_filtered.csv\n",
    "  - Sentiment (pos, neut, neg)\n",
    "  - Sentiment_score (confidence intervals)"
   ]
  },
  {
   "cell_type": "code",
   "execution_count": 2,
   "id": "8cb20dda",
   "metadata": {},
   "outputs": [
    {
     "name": "stdout",
     "output_type": "stream",
     "text": [
      "Transformers version: 4.56.2\n",
      "Torch version: 2.8.0+cpu\n"
     ]
    }
   ],
   "source": [
    "# Verify transformers install pip install transformers torch\n",
    "import transformers, torch\n",
    "print(\"Transformers version:\", transformers.__version__)\n",
    "print(\"Torch version:\", torch.__version__)"
   ]
  },
  {
   "cell_type": "code",
   "execution_count": 3,
   "id": "2c2e6b2e",
   "metadata": {},
   "outputs": [
    {
     "data": {
      "application/vnd.jupyter.widget-view+json": {
       "model_id": "a81953d532da41a59b9560c7472b7e81",
       "version_major": 2,
       "version_minor": 0
      },
      "text/plain": [
       "config.json:   0%|          | 0.00/758 [00:00<?, ?B/s]"
      ]
     },
     "metadata": {},
     "output_type": "display_data"
    },
    {
     "name": "stderr",
     "output_type": "stream",
     "text": [
      "c:\\Users\\User\\Desktop\\Data Science\\Fall 2025\\Generative AI\\Project\\genai-financial-doc-analysis\\.venv\\Lib\\site-packages\\huggingface_hub\\file_download.py:143: UserWarning: `huggingface_hub` cache-system uses symlinks by default to efficiently store duplicated files but your machine does not support them in C:\\Users\\User\\.cache\\huggingface\\hub\\models--ProsusAI--finbert. Caching files will still work but in a degraded version that might require more space on your disk. This warning can be disabled by setting the `HF_HUB_DISABLE_SYMLINKS_WARNING` environment variable. For more details, see https://huggingface.co/docs/huggingface_hub/how-to-cache#limitations.\n",
      "To support symlinks on Windows, you either need to activate Developer Mode or to run Python as an administrator. In order to activate developer mode, see this article: https://docs.microsoft.com/en-us/windows/apps/get-started/enable-your-device-for-development\n",
      "  warnings.warn(message)\n",
      "Xet Storage is enabled for this repo, but the 'hf_xet' package is not installed. Falling back to regular HTTP download. For better performance, install the package with: `pip install huggingface_hub[hf_xet]` or `pip install hf_xet`\n"
     ]
    },
    {
     "data": {
      "application/vnd.jupyter.widget-view+json": {
       "model_id": "c13a3d627dce4cb3b0e96167fb2e537c",
       "version_major": 2,
       "version_minor": 0
      },
      "text/plain": [
       "pytorch_model.bin:   0%|          | 0.00/438M [00:00<?, ?B/s]"
      ]
     },
     "metadata": {},
     "output_type": "display_data"
    },
    {
     "data": {
      "application/vnd.jupyter.widget-view+json": {
       "model_id": "bf8a36a7adc74d6497da784f32b24016",
       "version_major": 2,
       "version_minor": 0
      },
      "text/plain": [
       "tokenizer_config.json:   0%|          | 0.00/252 [00:00<?, ?B/s]"
      ]
     },
     "metadata": {},
     "output_type": "display_data"
    },
    {
     "name": "stderr",
     "output_type": "stream",
     "text": [
      "Xet Storage is enabled for this repo, but the 'hf_xet' package is not installed. Falling back to regular HTTP download. For better performance, install the package with: `pip install huggingface_hub[hf_xet]` or `pip install hf_xet`\n"
     ]
    },
    {
     "data": {
      "application/vnd.jupyter.widget-view+json": {
       "model_id": "47e1dc37afb9456dbd0816e5d1d3105f",
       "version_major": 2,
       "version_minor": 0
      },
      "text/plain": [
       "vocab.txt: 0.00B [00:00, ?B/s]"
      ]
     },
     "metadata": {},
     "output_type": "display_data"
    },
    {
     "data": {
      "application/vnd.jupyter.widget-view+json": {
       "model_id": "86519e726a5f4e4aa524224bb9065056",
       "version_major": 2,
       "version_minor": 0
      },
      "text/plain": [
       "special_tokens_map.json:   0%|          | 0.00/112 [00:00<?, ?B/s]"
      ]
     },
     "metadata": {},
     "output_type": "display_data"
    },
    {
     "name": "stderr",
     "output_type": "stream",
     "text": [
      "Device set to use cpu\n"
     ]
    },
    {
     "data": {
      "application/vnd.jupyter.widget-view+json": {
       "model_id": "efae571e261d4a33b3b49b0b4bbcddc0",
       "version_major": 2,
       "version_minor": 0
      },
      "text/plain": [
       "model.safetensors:   0%|          | 0.00/438M [00:00<?, ?B/s]"
      ]
     },
     "metadata": {},
     "output_type": "display_data"
    },
    {
     "name": "stdout",
     "output_type": "stream",
     "text": [
      "Processed 32 / 13647 articles\n",
      "Processed 672 / 13647 articles\n",
      "Processed 1312 / 13647 articles\n",
      "Processed 1952 / 13647 articles\n",
      "Processed 2592 / 13647 articles\n",
      "Processed 3232 / 13647 articles\n",
      "Processed 3872 / 13647 articles\n",
      "Processed 4512 / 13647 articles\n",
      "Processed 5152 / 13647 articles\n",
      "Processed 5792 / 13647 articles\n",
      "Processed 6432 / 13647 articles\n",
      "Processed 7072 / 13647 articles\n",
      "Processed 7712 / 13647 articles\n",
      "Processed 8352 / 13647 articles\n",
      "Processed 8992 / 13647 articles\n",
      "Processed 9632 / 13647 articles\n",
      "Processed 10272 / 13647 articles\n",
      "Processed 10912 / 13647 articles\n",
      "Processed 11552 / 13647 articles\n",
      "Processed 12192 / 13647 articles\n",
      "Processed 12832 / 13647 articles\n",
      "Processed 13472 / 13647 articles\n",
      "✅ Saved sentiment results to ../data/processed/news_with_sentiment.csv\n"
     ]
    }
   ],
   "source": [
    "import pandas as pd\n",
    "from transformers import pipeline\n",
    "import math\n",
    "\n",
    "# ----------------------------\n",
    "# 1. Load dataset\n",
    "# ----------------------------\n",
    "news = pd.read_csv(\"../data/raw/FNSPID/news_filtered.csv\")\n",
    "\n",
    "# Use a summary if available (faster + within token limit), otherwise full article\n",
    "text_col = news[\"Textrank_summary\"].fillna(news[\"Article\"].astype(str))\n",
    "\n",
    "# ----------------------------\n",
    "# 2. Load FinBERT model\n",
    "# ----------------------------\n",
    "sentiment_pipeline = pipeline(\"sentiment-analysis\", model=\"ProsusAI/finbert\")\n",
    "\n",
    "# ----------------------------\n",
    "# 3. Batch inference\n",
    "# ----------------------------\n",
    "batch_size = 32   # adjust if you want faster/slower\n",
    "results = []\n",
    "\n",
    "num_batches = math.ceil(len(text_col) / batch_size)\n",
    "for i in range(0, len(text_col), batch_size):\n",
    "    batch_texts = text_col.iloc[i:i+batch_size].tolist()\n",
    "    batch_texts = [t[:512] for t in batch_texts]  # truncate to model limit\n",
    "    batch_results = sentiment_pipeline(batch_texts)\n",
    "    results.extend(batch_results)\n",
    "\n",
    "    if (i // batch_size) % 20 == 0:  # log every ~20 batches\n",
    "        print(f\"Processed {i+len(batch_texts)} / {len(text_col)} articles\")\n",
    "\n",
    "# ----------------------------\n",
    "# 4. Attach results to dataframe\n",
    "# ----------------------------\n",
    "news[\"Sentiment\"] = [r[\"label\"] for r in results]\n",
    "news[\"Sentiment_score\"] = [r[\"score\"] for r in results]\n",
    "\n",
    "# ----------------------------\n",
    "# 5. Save output\n",
    "# ----------------------------\n",
    "out_path = \"../data/processed/news_with_sentiment.csv\"\n",
    "news.to_csv(out_path, index=False)\n",
    "\n",
    "print(f\"✅ Saved sentiment results to {out_path}\")\n"
   ]
  },
  {
   "cell_type": "markdown",
   "id": "b20a1850",
   "metadata": {},
   "source": [
    "- Aggregate daily sentiment -> daily_sentiment.csv\n",
    "- Merge with stock data -> stock_news_merged.csv\n"
   ]
  },
  {
   "cell_type": "code",
   "execution_count": 1,
   "id": "8c32b63d",
   "metadata": {},
   "outputs": [
    {
     "name": "stdout",
     "output_type": "stream",
     "text": [
      "✅ Saved daily_sentiment.csv with shape: (853, 5)\n"
     ]
    }
   ],
   "source": [
    "import pandas as pd\n",
    "\n",
    "# Load sentiment results\n",
    "news = pd.read_csv(\"../data/processed/news_with_sentiment.csv\")\n",
    "news[\"Date\"] = pd.to_datetime(news[\"Date\"])\n",
    "\n",
    "# Map sentiment labels to numeric values for averaging\n",
    "label_map = {\"positive\": 1, \"neutral\": 0, \"negative\": -1}\n",
    "news[\"Sentiment_numeric\"] = news[\"Sentiment\"].map(label_map)\n",
    "\n",
    "# Daily sentiment per stock\n",
    "daily_sentiment = (\n",
    "    news.groupby([\"Date\", \"Stock_symbol\"])\n",
    "        .agg(\n",
    "            avg_sentiment_score=(\"Sentiment_score\", \"mean\"),\n",
    "            avg_sentiment_numeric=(\"Sentiment_numeric\", \"mean\"),\n",
    "            article_count=(\"Sentiment\", \"count\")\n",
    "        )\n",
    "        .reset_index()\n",
    ")\n",
    "\n",
    "# Save\n",
    "daily_sentiment.to_csv(\"../data/processed/daily_sentiment.csv\", index=False)\n",
    "print(\"✅ Saved daily_sentiment.csv with shape:\", daily_sentiment.shape)\n"
   ]
  },
  {
   "cell_type": "markdown",
   "id": "01d498e1",
   "metadata": {},
   "source": [
    "Each row = one unique (Date, Stock_symbol) combination.\n",
    "\n",
    "Your dataset spans AAPL + AMZN from 2020-09-16 → 2025-09-15.\n",
    "\n",
    "That’s ~1,250 trading days total, but not every day has news articles."
   ]
  },
  {
   "cell_type": "markdown",
   "id": "adca5249",
   "metadata": {},
   "source": [
    "### Merge with stock data"
   ]
  },
  {
   "cell_type": "code",
   "execution_count": 3,
   "id": "23512a47",
   "metadata": {},
   "outputs": [
    {
     "name": "stdout",
     "output_type": "stream",
     "text": [
      "✅ Merged dataset saved with shape: (2510, 10)\n"
     ]
    }
   ],
   "source": [
    "# Load filtered stock data\n",
    "stocks = pd.read_csv(\"../data/processed/stocks_filtered.csv\")\n",
    "\n",
    "# Ensure both are tz-naive\n",
    "stocks[\"Date\"] = pd.to_datetime(stocks[\"Date\"]).dt.tz_localize(None)\n",
    "daily_sentiment[\"Date\"] = pd.to_datetime(daily_sentiment[\"Date\"]).dt.tz_localize(None)\n",
    "\n",
    "merged = pd.merge(\n",
    "    stocks,\n",
    "    daily_sentiment,\n",
    "    left_on=[\"Date\", \"Ticker\"],\n",
    "    right_on=[\"Date\", \"Stock_symbol\"],\n",
    "    how=\"left\"\n",
    ")\n",
    "\n",
    "# Drop duplicate Stock_symbol column\n",
    "merged = merged.drop(columns=[\"Stock_symbol\"])\n",
    "\n",
    "merged.to_csv(\"../data/processed/stocks_news_merged.csv\", index=False)\n",
    "print(\"✅ Merged dataset saved with shape:\", merged.shape)\n"
   ]
  },
  {
   "cell_type": "markdown",
   "id": "62ce8d75",
   "metadata": {},
   "source": [
    "2510 rows (all trading days x 2 tickers) joined with sentiment"
   ]
  }
 ],
 "metadata": {
  "kernelspec": {
   "display_name": ".venv (3.12.0)",
   "language": "python",
   "name": "python3"
  },
  "language_info": {
   "codemirror_mode": {
    "name": "ipython",
    "version": 3
   },
   "file_extension": ".py",
   "mimetype": "text/x-python",
   "name": "python",
   "nbconvert_exporter": "python",
   "pygments_lexer": "ipython3",
   "version": "3.12.0"
  }
 },
 "nbformat": 4,
 "nbformat_minor": 5
}
