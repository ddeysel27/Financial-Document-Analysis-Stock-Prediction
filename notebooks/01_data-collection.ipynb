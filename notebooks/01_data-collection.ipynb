{
 "cells": [
  {
   "cell_type": "markdown",
   "id": "6c870bab",
   "metadata": {},
   "source": [
    "### 01_data_collection.ipynb\n",
    "#### Week 1 - Data Collection (Financial News + Stock Prices)"
   ]
  },
  {
   "cell_type": "code",
   "execution_count": 27,
   "id": "6fc4f74f",
   "metadata": {},
   "outputs": [
    {
     "name": "stdout",
     "output_type": "stream",
     "text": [
      "c:\\Users\\User\\Desktop\\Data Science\\Fall 2025\\Generative AI\\Project\\genai-financial-doc-analysis\\.venv\\Scripts\\python.exe\n"
     ]
    }
   ],
   "source": [
    "# check the kernel is in the venv we just created in this project folder\n",
    "import sys\n",
    "print(sys.executable)\n"
   ]
  },
  {
   "cell_type": "code",
   "execution_count": 28,
   "id": "f9d99a6a",
   "metadata": {},
   "outputs": [
    {
     "name": "stdout",
     "output_type": "stream",
     "text": [
      "✅ All packages loaded successfully\n"
     ]
    }
   ],
   "source": [
    "import pandas as pd\n",
    "import yfinance as yf\n",
    "import matplotlib.pyplot as plt\n",
    "import seaborn as sns\n",
    "import sklearn\n",
    "\n",
    "print(\"✅ All packages loaded successfully\")"
   ]
  },
  {
   "cell_type": "code",
   "execution_count": 29,
   "id": "9e7530aa",
   "metadata": {},
   "outputs": [],
   "source": [
    "# ----------------------------\n",
    "# Setup\n",
    "# ----------------------------\n",
    "import pandas as pd\n",
    "import yfinance as yf\n",
    "import os\n",
    "\n",
    "# Create folders if not exist\n",
    "os.makedirs(\"../data/raw\", exist_ok=True)\n",
    "os.makedirs(\"../data/processed\", exist_ok=True)"
   ]
  },
  {
   "cell_type": "code",
   "execution_count": 30,
   "id": "197f60c1",
   "metadata": {},
   "outputs": [
    {
     "name": "stdout",
     "output_type": "stream",
     "text": [
      "Shape: (4847, 2)\n",
      "   sentiment                                               text\n",
      "0  sentiment                                               text\n",
      "1    neutral  According to Gran , the company has no plans t...\n",
      "2    neutral  Technopolis plans to develop in stages an area...\n",
      "3   negative  The international electronic industry company ...\n",
      "4   positive  With the new production plant the company woul...\n"
     ]
    }
   ],
   "source": [
    "# ----------------------------\n",
    "# Load Financial News Data\n",
    "# ----------------------------\n",
    "# Replace with your actual downloaded CSV path\n",
    "import pandas as pd\n",
    "\n",
    "news_path = r\"C:\\Users\\User\\Desktop\\Data Science\\Fall 2025\\Generative AI\\Project\\genai-financial-doc-analysis\\data\\processed\\financial_news_clean.csv\"\n",
    "\n",
    "financial_news = pd.read_csv(news_path, encoding=\"latin1\", header=None, names=[\"sentiment\", \"text\"])\n",
    "\n",
    "print(\"Shape:\", financial_news.shape)\n",
    "print(financial_news.head())\n"
   ]
  },
  {
   "cell_type": "code",
   "execution_count": 31,
   "id": "fb48e866",
   "metadata": {},
   "outputs": [
    {
     "name": "stdout",
     "output_type": "stream",
     "text": [
      "sentiment\n",
      "neutral      2879\n",
      "positive     1363\n",
      "negative      604\n",
      "sentiment       1\n",
      "Name: count, dtype: int64\n"
     ]
    }
   ],
   "source": [
    "# check class inbalance\n",
    "print(financial_news['sentiment'].value_counts())\n"
   ]
  },
  {
   "cell_type": "code",
   "execution_count": 32,
   "id": "c1f21ee4",
   "metadata": {},
   "outputs": [],
   "source": [
    "# Save a cleam UTF-8 Version for later\n",
    "financial_news.to_csv(\"../data/processed/financial_news_clean.csv\", index=False, encoding=\"utf-8\")\n"
   ]
  },
  {
   "cell_type": "markdown",
   "id": "d3590c76",
   "metadata": {},
   "source": [
    "## STOCK DATA"
   ]
  },
  {
   "cell_type": "markdown",
   "id": "daa9833e",
   "metadata": {},
   "source": [
    "### 1. Pull stock data from yahoo finance of AAPL (yfinance)"
   ]
  },
  {
   "cell_type": "code",
   "execution_count": 33,
   "id": "568dae53",
   "metadata": {},
   "outputs": [
    {
     "name": "stderr",
     "output_type": "stream",
     "text": [
      "C:\\Users\\User\\AppData\\Local\\Temp\\ipykernel_18664\\3431454893.py:9: FutureWarning: YF.download() has changed argument auto_adjust default to True\n",
      "  aapl = yf.download(\"AAPL\", start=\"2020-01-01\", end=\"2025-01-01\")\n",
      "[*********************100%***********************]  1 of 1 completed"
     ]
    },
    {
     "name": "stdout",
     "output_type": "stream",
     "text": [
      "AAPL stock data shape: (1258, 5)\n",
      "Price           Close       High        Low       Open     Volume\n",
      "Ticker           AAPL       AAPL       AAPL       AAPL       AAPL\n",
      "Date                                                             \n",
      "2020-01-02  72.538521  72.598899  71.292311  71.545897  135480400\n",
      "2020-01-03  71.833282  72.594048  71.608677  71.765659  146322800\n",
      "2020-01-06  72.405678  72.444321  70.703012  70.954188  118387200\n",
      "2020-01-07  72.065147  72.671341  71.845369  72.415337  108872000\n",
      "2020-01-08  73.224411  73.526303  71.768086  71.768086  132079200\n",
      "✅ Saved AAPL stock data to ../data/raw/AAPL_stock.csv\n"
     ]
    },
    {
     "name": "stderr",
     "output_type": "stream",
     "text": [
      "\n"
     ]
    }
   ],
   "source": [
    "import yfinance as yf\n",
    "import pandas as pd\n",
    "import os\n",
    "\n",
    "# Make sure raw data folder exists\n",
    "os.makedirs(\"../data/raw\", exist_ok=True)\n",
    "\n",
    "# Download Apple stock data (daily)\n",
    "aapl = yf.download(\"AAPL\", start=\"2020-01-01\", end=\"2025-01-01\")\n",
    "\n",
    "print(\"AAPL stock data shape:\", aapl.shape)\n",
    "print(aapl.head())\n",
    "\n",
    "# Save to CSV\n",
    "aapl.to_csv(\"../data/raw/AAPL_stock.csv\")\n",
    "print(\"✅ Saved AAPL stock data to ../data/raw/AAPL_stock.csv\")\n"
   ]
  },
  {
   "cell_type": "markdown",
   "id": "628c7a31",
   "metadata": {},
   "source": [
    "### Step 2: Organize stock data for multiple companies"
   ]
  },
  {
   "cell_type": "code",
   "execution_count": 34,
   "id": "4980e4bc",
   "metadata": {},
   "outputs": [
    {
     "name": "stderr",
     "output_type": "stream",
     "text": [
      "C:\\Users\\User\\AppData\\Local\\Temp\\ipykernel_18664\\4029043336.py:4: FutureWarning: YF.download() has changed argument auto_adjust default to True\n",
      "  df = yf.download(ticker, start=\"2020-01-01\", end=\"2025-01-01\")\n",
      "[*********************100%***********************]  1 of 1 completed\n",
      "C:\\Users\\User\\AppData\\Local\\Temp\\ipykernel_18664\\4029043336.py:4: FutureWarning: YF.download() has changed argument auto_adjust default to True\n",
      "  df = yf.download(ticker, start=\"2020-01-01\", end=\"2025-01-01\")\n",
      "[*********************100%***********************]  1 of 1 completed\n",
      "C:\\Users\\User\\AppData\\Local\\Temp\\ipykernel_18664\\4029043336.py:4: FutureWarning: YF.download() has changed argument auto_adjust default to True\n",
      "  df = yf.download(ticker, start=\"2020-01-01\", end=\"2025-01-01\")\n",
      "[*********************100%***********************]  1 of 1 completed\n",
      "C:\\Users\\User\\AppData\\Local\\Temp\\ipykernel_18664\\4029043336.py:4: FutureWarning: YF.download() has changed argument auto_adjust default to True\n",
      "  df = yf.download(ticker, start=\"2020-01-01\", end=\"2025-01-01\")\n"
     ]
    },
    {
     "name": "stdout",
     "output_type": "stream",
     "text": [
      "✅ Saved AAPL stock data to ../data/raw/AAPL_stock.csv\n",
      "✅ Saved MSFT stock data to ../data/raw/MSFT_stock.csv\n",
      "✅ Saved GOOG stock data to ../data/raw/GOOG_stock.csv\n"
     ]
    },
    {
     "name": "stderr",
     "output_type": "stream",
     "text": [
      "[*********************100%***********************]  1 of 1 completed"
     ]
    },
    {
     "name": "stdout",
     "output_type": "stream",
     "text": [
      "✅ Saved AMZN stock data to ../data/raw/AMZN_stock.csv\n"
     ]
    },
    {
     "name": "stderr",
     "output_type": "stream",
     "text": [
      "\n"
     ]
    }
   ],
   "source": [
    "tickers = [\"AAPL\", \"MSFT\", \"GOOG\", \"AMZN\"]\n",
    "\n",
    "for ticker in tickers:\n",
    "    df = yf.download(ticker, start=\"2020-01-01\", end=\"2025-01-01\")\n",
    "    path = f\"../data/raw/{ticker}_stock.csv\"\n",
    "    df.to_csv(path)\n",
    "    print(f\"✅ Saved {ticker} stock data to {path}\")\n"
   ]
  },
  {
   "cell_type": "markdown",
   "id": "8e063e0d",
   "metadata": {},
   "source": [
    "### Have the 4 stocks in a combined excel file to make it easier to join with news data instead of looping through mulitple stock files."
   ]
  },
  {
   "cell_type": "code",
   "execution_count": 42,
   "id": "d53fe085",
   "metadata": {},
   "outputs": [
    {
     "name": "stdout",
     "output_type": "stream",
     "text": [
      "✅ Long-format dataset saved with shape: (5020, 9)\n",
      "                       Date        Open        High         Low       Close  \\\n",
      "0 2020-09-16 00:00:00-04:00  112.086293  112.835283  108.983321  109.070862   \n",
      "1 2020-09-17 00:00:00-04:00  106.726601  109.138937  105.744154  107.329681   \n",
      "2 2020-09-18 00:00:00-04:00  107.388051  107.854952  103.195633  103.925171   \n",
      "3 2020-09-21 00:00:00-04:00  101.687903  107.183759  100.287187  107.076759   \n",
      "4 2020-09-22 00:00:00-04:00  109.605857  109.780947  106.181894  108.759590   \n",
      "\n",
      "      Volume  Dividends  Stock Splits Ticker  \n",
      "0  154679000        0.0           0.0   AAPL  \n",
      "1  178011000        0.0           0.0   AAPL  \n",
      "2  287104900        0.0           0.0   AAPL  \n",
      "3  195713800        0.0           0.0   AAPL  \n",
      "4  183055400        0.0           0.0   AAPL  \n"
     ]
    }
   ],
   "source": [
    "import yfinance as yf\n",
    "import pandas as pd\n",
    "\n",
    "tickers = [\"AAPL\", \"MSFT\", \"GOOG\", \"AMZN\"]\n",
    "data = []\n",
    "\n",
    "for ticker in tickers:\n",
    "    t = yf.Ticker(ticker)\n",
    "    df = t.history(period=\"5y\")   # last 5 years\n",
    "    df = df.reset_index()         # move Date from index to column\n",
    "    df[\"Ticker\"] = ticker         # add ticker column\n",
    "    data.append(df)\n",
    "\n",
    "# Combine all tickers\n",
    "all_stocks = pd.concat(data, ignore_index=True)\n",
    "\n",
    "# Save as tidy dataset\n",
    "all_stocks.to_csv(\"../data/raw/all_stocks_long.csv\", index=False)\n",
    "\n",
    "print(\"✅ Long-format dataset saved with shape:\", all_stocks.shape)\n",
    "print(all_stocks.head())\n"
   ]
  },
  {
   "cell_type": "code",
   "execution_count": 43,
   "id": "3a1a51a8",
   "metadata": {},
   "outputs": [],
   "source": [
    "all_stocks[\"Date\"] = pd.to_datetime(all_stocks[\"Date\"]).dt.date\n"
   ]
  },
  {
   "cell_type": "code",
   "execution_count": 44,
   "id": "089fd009",
   "metadata": {},
   "outputs": [],
   "source": [
    "all_stocks = all_stocks.drop(columns=[\"Dividends\", \"Stock Splits\"])\n"
   ]
  },
  {
   "cell_type": "code",
   "execution_count": 45,
   "id": "e1a974fc",
   "metadata": {},
   "outputs": [
    {
     "data": {
      "text/html": [
       "<div>\n",
       "<style scoped>\n",
       "    .dataframe tbody tr th:only-of-type {\n",
       "        vertical-align: middle;\n",
       "    }\n",
       "\n",
       "    .dataframe tbody tr th {\n",
       "        vertical-align: top;\n",
       "    }\n",
       "\n",
       "    .dataframe thead th {\n",
       "        text-align: right;\n",
       "    }\n",
       "</style>\n",
       "<table border=\"1\" class=\"dataframe\">\n",
       "  <thead>\n",
       "    <tr style=\"text-align: right;\">\n",
       "      <th></th>\n",
       "      <th>Date</th>\n",
       "      <th>Open</th>\n",
       "      <th>High</th>\n",
       "      <th>Low</th>\n",
       "      <th>Close</th>\n",
       "      <th>Volume</th>\n",
       "      <th>Ticker</th>\n",
       "    </tr>\n",
       "  </thead>\n",
       "  <tbody>\n",
       "    <tr>\n",
       "      <th>0</th>\n",
       "      <td>2020-09-16</td>\n",
       "      <td>112.086293</td>\n",
       "      <td>112.835283</td>\n",
       "      <td>108.983321</td>\n",
       "      <td>109.070862</td>\n",
       "      <td>154679000</td>\n",
       "      <td>AAPL</td>\n",
       "    </tr>\n",
       "    <tr>\n",
       "      <th>1</th>\n",
       "      <td>2020-09-17</td>\n",
       "      <td>106.726601</td>\n",
       "      <td>109.138937</td>\n",
       "      <td>105.744154</td>\n",
       "      <td>107.329681</td>\n",
       "      <td>178011000</td>\n",
       "      <td>AAPL</td>\n",
       "    </tr>\n",
       "    <tr>\n",
       "      <th>2</th>\n",
       "      <td>2020-09-18</td>\n",
       "      <td>107.388051</td>\n",
       "      <td>107.854952</td>\n",
       "      <td>103.195633</td>\n",
       "      <td>103.925171</td>\n",
       "      <td>287104900</td>\n",
       "      <td>AAPL</td>\n",
       "    </tr>\n",
       "    <tr>\n",
       "      <th>3</th>\n",
       "      <td>2020-09-21</td>\n",
       "      <td>101.687903</td>\n",
       "      <td>107.183759</td>\n",
       "      <td>100.287187</td>\n",
       "      <td>107.076759</td>\n",
       "      <td>195713800</td>\n",
       "      <td>AAPL</td>\n",
       "    </tr>\n",
       "    <tr>\n",
       "      <th>4</th>\n",
       "      <td>2020-09-22</td>\n",
       "      <td>109.605857</td>\n",
       "      <td>109.780947</td>\n",
       "      <td>106.181894</td>\n",
       "      <td>108.759590</td>\n",
       "      <td>183055400</td>\n",
       "      <td>AAPL</td>\n",
       "    </tr>\n",
       "  </tbody>\n",
       "</table>\n",
       "</div>"
      ],
      "text/plain": [
       "         Date        Open        High         Low       Close     Volume  \\\n",
       "0  2020-09-16  112.086293  112.835283  108.983321  109.070862  154679000   \n",
       "1  2020-09-17  106.726601  109.138937  105.744154  107.329681  178011000   \n",
       "2  2020-09-18  107.388051  107.854952  103.195633  103.925171  287104900   \n",
       "3  2020-09-21  101.687903  107.183759  100.287187  107.076759  195713800   \n",
       "4  2020-09-22  109.605857  109.780947  106.181894  108.759590  183055400   \n",
       "\n",
       "  Ticker  \n",
       "0   AAPL  \n",
       "1   AAPL  \n",
       "2   AAPL  \n",
       "3   AAPL  \n",
       "4   AAPL  "
      ]
     },
     "execution_count": 45,
     "metadata": {},
     "output_type": "execute_result"
    }
   ],
   "source": [
    "all_stocks.head()"
   ]
  },
  {
   "cell_type": "code",
   "execution_count": 46,
   "id": "c7fee2da",
   "metadata": {},
   "outputs": [
    {
     "name": "stdout",
     "output_type": "stream",
     "text": [
      "✅ Clean stock dataset saved: (5020, 7)\n"
     ]
    }
   ],
   "source": [
    "all_stocks.to_csv(\"../data/processed/all_stocks_clean.csv\", index=False)\n",
    "print(\"✅ Clean stock dataset saved:\", all_stocks.shape)\n"
   ]
  },
  {
   "cell_type": "markdown",
   "id": "122b4c59",
   "metadata": {},
   "source": [
    "#### Quick Validation Code\n",
    "\n",
    "Run this to confirm your uploaded all_stocks.csv structure:"
   ]
  },
  {
   "cell_type": "code",
   "execution_count": 47,
   "id": "21d0d047",
   "metadata": {},
   "outputs": [
    {
     "name": "stdout",
     "output_type": "stream",
     "text": [
      "Shape: (5020, 9)\n",
      "Columns: ['Date', 'Open', 'High', 'Low', 'Close', 'Volume', 'Dividends', 'Stock Splits', 'Ticker']\n",
      "                        Date        Open        High         Low       Close  \\\n",
      "0  2020-09-16 00:00:00-04:00  112.086293  112.835283  108.983321  109.070862   \n",
      "1  2020-09-17 00:00:00-04:00  106.726601  109.138937  105.744154  107.329681   \n",
      "2  2020-09-18 00:00:00-04:00  107.388051  107.854952  103.195633  103.925171   \n",
      "3  2020-09-21 00:00:00-04:00  101.687903  107.183759  100.287187  107.076759   \n",
      "4  2020-09-22 00:00:00-04:00  109.605857  109.780947  106.181894  108.759590   \n",
      "\n",
      "      Volume  Dividends  Stock Splits Ticker  \n",
      "0  154679000        0.0           0.0   AAPL  \n",
      "1  178011000        0.0           0.0   AAPL  \n",
      "2  287104900        0.0           0.0   AAPL  \n",
      "3  195713800        0.0           0.0   AAPL  \n",
      "4  183055400        0.0           0.0   AAPL  \n",
      "Unique tickers: ['AAPL' 'MSFT' 'GOOG' 'AMZN']\n",
      "Date range: 2020-09-16 00:00:00-04:00 to 2025-09-15 00:00:00-04:00\n",
      "Duplicate rows: 0\n"
     ]
    },
    {
     "name": "stderr",
     "output_type": "stream",
     "text": [
      "C:\\Users\\User\\AppData\\Local\\Temp\\ipykernel_18664\\3830864899.py:14: FutureWarning: In a future version of pandas, parsing datetimes with mixed time zones will raise an error unless `utc=True`. Please specify `utc=True` to opt in to the new behaviour and silence this warning. To create a `Series` with mixed offsets and `object` dtype, please use `apply` and `datetime.datetime.strptime`\n",
      "  all_stocks[\"Date\"] = pd.to_datetime(all_stocks[\"Date\"], errors=\"coerce\")\n"
     ]
    }
   ],
   "source": [
    "import pandas as pd\n",
    "\n",
    "# Load your new file\n",
    "all_stocks = pd.read_csv(r\"C:\\Users\\User\\Desktop\\Data Science\\Fall 2025\\Generative AI\\Project\\genai-financial-doc-analysis\\data\\raw\\all_stocks_long.csv\")\n",
    "\n",
    "print(\"Shape:\", all_stocks.shape)\n",
    "print(\"Columns:\", all_stocks.columns.tolist())\n",
    "print(all_stocks.head())\n",
    "\n",
    "# Check unique tickers\n",
    "print(\"Unique tickers:\", all_stocks[\"Ticker\"].unique())\n",
    "\n",
    "# Convert Date column\n",
    "all_stocks[\"Date\"] = pd.to_datetime(all_stocks[\"Date\"], errors=\"coerce\")\n",
    "\n",
    "print(\"Date range:\", all_stocks[\"Date\"].min(), \"to\", all_stocks[\"Date\"].max())\n",
    "\n",
    "# Check duplicates\n",
    "dupes = all_stocks.duplicated(subset=[\"Date\", \"Ticker\"]).sum()\n",
    "print(\"Duplicate rows:\", dupes)\n"
   ]
  }
 ],
 "metadata": {
  "kernelspec": {
   "display_name": ".venv (3.12.0)",
   "language": "python",
   "name": "python3"
  },
  "language_info": {
   "codemirror_mode": {
    "name": "ipython",
    "version": 3
   },
   "file_extension": ".py",
   "mimetype": "text/x-python",
   "name": "python",
   "nbconvert_exporter": "python",
   "pygments_lexer": "ipython3",
   "version": "3.12.0"
  }
 },
 "nbformat": 4,
 "nbformat_minor": 5
}
